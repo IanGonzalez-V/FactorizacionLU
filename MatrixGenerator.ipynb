{
  "nbformat": 4,
  "nbformat_minor": 0,
  "metadata": {
    "colab": {
      "name": "Generador_Matriz.ipynb",
      "provenance": [],
      "authorship_tag": "ABX9TyNsH+q81CV7Y+FZapzF6g9F"
    },
    "kernelspec": {
      "name": "python3",
      "display_name": "Python 3"
    },
    "language_info": {
      "name": "python"
    }
  },
  "cells": [
    {
      "cell_type": "code",
      "metadata": {
        "colab": {
          "base_uri": "https://localhost:8080/"
        },
        "id": "FttBMamn9P91",
        "outputId": "43f1534c-1d28-4ebc-d48f-5f9585ea7009"
      },
      "source": [
        "%%writefile matrixgenerator.cpp\n",
        "#include <iostream>\n",
        "#include <ctime>\n",
        "#include <stdlib.h>\n",
        "using namespace std;\n",
        "\n",
        "class Matriz{\n",
        "  private: \n",
        "  short n;\n",
        "  short** matriz;\n",
        "  public:\n",
        "  Matriz(short n): n(n){\n",
        "      matriz = new short* [n];\n",
        "      for(size_t i = 0; i < n; i++){\n",
        "          matriz[i] = new short[n];\n",
        "          for(size_t j = 0; j < n; j++){\n",
        "              matriz[i][j] = rand()%10;\n",
        "              if (rand()%2) matriz[i][j] *= -1;\n",
        "          }\n",
        "      }\n",
        "      std::cout<<\"Matriz generada exitosamente\\n\";\n",
        "  }  \n",
        "  ~Matriz(){ delete[] matriz;}\n",
        "  void Imprimir(){\n",
        "      std::cout<<\"IMPRESIÓN: \\n\";\n",
        "      for(size_t i = 0; i < n; i++){\n",
        "          for(size_t j = 0; j < n; j++){\n",
        "              if (matriz[i][j] >= 0) std::cout<<\"  \"<<matriz[i][j]<<\" \";\n",
        "              else std::cout<<\" \"<<matriz[i][j]<<\" \";\n",
        "          }\n",
        "          std::cout<<\"\\n\";\n",
        "      }\n",
        "  }\n",
        "};\n",
        "\n",
        "int main(){\n",
        "    srand(time(NULL));\n",
        "    short n;\n",
        "    std::cout<<\"Ingrese el orden de la matriz a generar: \\n\";\n",
        "    do{std::cin>>n;} while (n < 4 || n > 10);\n",
        "    Matriz* m = new Matriz(n);\n",
        "    m->Imprimir();\n",
        "    return 0;\n",
        "}"
      ],
      "execution_count": null,
      "outputs": [
        {
          "output_type": "stream",
          "name": "stdout",
          "text": [
            "Overwriting matrixgenerator.cpp\n"
          ]
        }
      ]
    },
    {
      "cell_type": "code",
      "metadata": {
        "colab": {
          "base_uri": "https://localhost:8080/"
        },
        "id": "5zp6Kp1TAW5t",
        "outputId": "56af23ef-879c-4956-c0b8-01e02dd04d6d"
      },
      "source": [
        "!g++ matrixgenerator.cpp && ./a.out"
      ],
      "execution_count": null,
      "outputs": [
        {
          "output_type": "stream",
          "name": "stdout",
          "text": [
            "Ingrese el orden de la matriz a generar: \n",
            "9\n",
            "Matriz generada exitosamente\n",
            "  0  -5  -6  -9   0  -3   8   8  -2 \n",
            " -3  -2   5  -6   0  -8  -1   6   6 \n",
            "  9  -7   4   6   8   8  -5   0  -5 \n",
            " -1   0  -3   5   0   1   3   2   4 \n",
            "  4   3  -1   7  -5   6  -6   5   5 \n",
            " -7  -5   4   6   0   2  -9   9   3 \n",
            "  5   8   1  -4  -8  -4   0  -6  -3 \n",
            " -7  -1  -9   6  -4   2   7  -8   0 \n",
            " -4   9  -6   5   9   7   5   1   4 \n"
          ]
        }
      ]
    }
  ]
}